{
 "cells": [
  {
   "cell_type": "markdown",
   "metadata": {},
   "source": [
    "# Лабораторная работа № 4\n",
    "# Подготовка обучающей и тестовой выборки, кросс-валидация и подбор гиперпараметров на примере метода ближайших соседей\n",
    "\n",
    " Цель лабораторной работы: изучение сложных способов подготовки выборки и подбора гиперпараметров на примере метода ближайших соседей.\n",
    "\n",
    " Выполнил: Мокренко Никита ИУ5-64\n",
    "\n",
    "    1. Выберите набор данных (датасет) для решения задачи классификации или регресии.\n",
    "    2. В случае необходимости проведите удаление или заполнение пропусков и кодирование категориальных признаков.\n",
    "    3. С использованием метода train_test_split разделите выборку на обучающую и тестовую.\n",
    "    4. Обучите модель ближайших соседей для произвольно заданного гиперпараметра K. Оцените качество модели с помощью трех подходящих для задачи метрик.\n",
    "    5. Постройте модель и оцените качество модели с использованием кросс-валидации. Проведите эксперименты с тремя различными стратегиями кросс-валидации.\n",
    "    6. Произведите подбор гиперпараметра K с использованием GridSearchCV и кросс-валидации.\n",
    "    7. Повторите пункт 4 для найденного оптимального значения гиперпараметра K. Сравните качество полученной модели с качеством модели, полученной в пункте 4.\n",
    "    8. Постройте кривые обучения и валидации.\n"
   ]
  },
  {
   "cell_type": "code",
   "execution_count": 132,
   "metadata": {},
   "outputs": [],
   "source": [
    "import numpy as np\n",
    "import pandas as pd\n",
    "\n",
    "import matplotlib.pyplot as plt"
   ]
  },
  {
   "cell_type": "markdown",
   "metadata": {},
   "source": [
    "### 1. Выбор датасета"
   ]
  },
  {
   "cell_type": "code",
   "execution_count": 133,
   "metadata": {},
   "outputs": [
    {
     "data": {
      "text/html": [
       "<div>\n",
       "<style scoped>\n",
       "    .dataframe tbody tr th:only-of-type {\n",
       "        vertical-align: middle;\n",
       "    }\n",
       "\n",
       "    .dataframe tbody tr th {\n",
       "        vertical-align: top;\n",
       "    }\n",
       "\n",
       "    .dataframe thead th {\n",
       "        text-align: right;\n",
       "    }\n",
       "</style>\n",
       "<table border=\"1\" class=\"dataframe\">\n",
       "  <thead>\n",
       "    <tr style=\"text-align: right;\">\n",
       "      <th></th>\n",
       "      <th>age</th>\n",
       "      <th>sex</th>\n",
       "      <th>cp</th>\n",
       "      <th>trestbps</th>\n",
       "      <th>chol</th>\n",
       "      <th>fbs</th>\n",
       "      <th>restecg</th>\n",
       "      <th>thalach</th>\n",
       "      <th>exang</th>\n",
       "      <th>oldpeak</th>\n",
       "      <th>slope</th>\n",
       "      <th>ca</th>\n",
       "      <th>thal</th>\n",
       "      <th>target</th>\n",
       "    </tr>\n",
       "  </thead>\n",
       "  <tbody>\n",
       "    <tr>\n",
       "      <th>0</th>\n",
       "      <td>63</td>\n",
       "      <td>1</td>\n",
       "      <td>3</td>\n",
       "      <td>145</td>\n",
       "      <td>233</td>\n",
       "      <td>1</td>\n",
       "      <td>0</td>\n",
       "      <td>150</td>\n",
       "      <td>0</td>\n",
       "      <td>2.3</td>\n",
       "      <td>0</td>\n",
       "      <td>0</td>\n",
       "      <td>1</td>\n",
       "      <td>1</td>\n",
       "    </tr>\n",
       "    <tr>\n",
       "      <th>1</th>\n",
       "      <td>37</td>\n",
       "      <td>1</td>\n",
       "      <td>2</td>\n",
       "      <td>130</td>\n",
       "      <td>250</td>\n",
       "      <td>0</td>\n",
       "      <td>1</td>\n",
       "      <td>187</td>\n",
       "      <td>0</td>\n",
       "      <td>3.5</td>\n",
       "      <td>0</td>\n",
       "      <td>0</td>\n",
       "      <td>2</td>\n",
       "      <td>1</td>\n",
       "    </tr>\n",
       "    <tr>\n",
       "      <th>2</th>\n",
       "      <td>41</td>\n",
       "      <td>0</td>\n",
       "      <td>1</td>\n",
       "      <td>130</td>\n",
       "      <td>204</td>\n",
       "      <td>0</td>\n",
       "      <td>0</td>\n",
       "      <td>172</td>\n",
       "      <td>0</td>\n",
       "      <td>1.4</td>\n",
       "      <td>2</td>\n",
       "      <td>0</td>\n",
       "      <td>2</td>\n",
       "      <td>1</td>\n",
       "    </tr>\n",
       "    <tr>\n",
       "      <th>3</th>\n",
       "      <td>56</td>\n",
       "      <td>1</td>\n",
       "      <td>1</td>\n",
       "      <td>120</td>\n",
       "      <td>236</td>\n",
       "      <td>0</td>\n",
       "      <td>1</td>\n",
       "      <td>178</td>\n",
       "      <td>0</td>\n",
       "      <td>0.8</td>\n",
       "      <td>2</td>\n",
       "      <td>0</td>\n",
       "      <td>2</td>\n",
       "      <td>1</td>\n",
       "    </tr>\n",
       "    <tr>\n",
       "      <th>4</th>\n",
       "      <td>57</td>\n",
       "      <td>0</td>\n",
       "      <td>0</td>\n",
       "      <td>120</td>\n",
       "      <td>354</td>\n",
       "      <td>0</td>\n",
       "      <td>1</td>\n",
       "      <td>163</td>\n",
       "      <td>1</td>\n",
       "      <td>0.6</td>\n",
       "      <td>2</td>\n",
       "      <td>0</td>\n",
       "      <td>2</td>\n",
       "      <td>1</td>\n",
       "    </tr>\n",
       "  </tbody>\n",
       "</table>\n",
       "</div>"
      ],
      "text/plain": [
       "   age  sex  cp  trestbps  chol  fbs  restecg  thalach  exang  oldpeak  slope  \\\n",
       "0   63    1   3       145   233    1        0      150      0      2.3      0   \n",
       "1   37    1   2       130   250    0        1      187      0      3.5      0   \n",
       "2   41    0   1       130   204    0        0      172      0      1.4      2   \n",
       "3   56    1   1       120   236    0        1      178      0      0.8      2   \n",
       "4   57    0   0       120   354    0        1      163      1      0.6      2   \n",
       "\n",
       "   ca  thal  target  \n",
       "0   0     1       1  \n",
       "1   0     2       1  \n",
       "2   0     2       1  \n",
       "3   0     2       1  \n",
       "4   0     2       1  "
      ]
     },
     "execution_count": 133,
     "metadata": {},
     "output_type": "execute_result"
    }
   ],
   "source": [
    "data = pd.read_csv('./data/heart.csv')\n",
    "data.head()"
   ]
  },
  {
   "cell_type": "code",
   "execution_count": 134,
   "metadata": {},
   "outputs": [
    {
     "data": {
      "text/plain": [
       "(303, 14)"
      ]
     },
     "execution_count": 134,
     "metadata": {},
     "output_type": "execute_result"
    }
   ],
   "source": [
    "data.shape"
   ]
  },
  {
   "cell_type": "markdown",
   "metadata": {},
   "source": [
    "### 2. Проверка датасета на наличие пропусков и категориальных признаков"
   ]
  },
  {
   "cell_type": "code",
   "execution_count": 135,
   "metadata": {},
   "outputs": [
    {
     "data": {
      "text/plain": [
       "age           int64\n",
       "sex           int64\n",
       "cp            int64\n",
       "trestbps      int64\n",
       "chol          int64\n",
       "fbs           int64\n",
       "restecg       int64\n",
       "thalach       int64\n",
       "exang         int64\n",
       "oldpeak     float64\n",
       "slope         int64\n",
       "ca            int64\n",
       "thal          int64\n",
       "target        int64\n",
       "dtype: object"
      ]
     },
     "execution_count": 135,
     "metadata": {},
     "output_type": "execute_result"
    }
   ],
   "source": [
    "data.dtypes"
   ]
  },
  {
   "cell_type": "markdown",
   "metadata": {},
   "source": [
    "Категориальные признаки отсутствуют"
   ]
  },
  {
   "cell_type": "code",
   "execution_count": 136,
   "metadata": {},
   "outputs": [
    {
     "data": {
      "text/plain": [
       "age         0\n",
       "sex         0\n",
       "cp          0\n",
       "trestbps    0\n",
       "chol        0\n",
       "fbs         0\n",
       "restecg     0\n",
       "thalach     0\n",
       "exang       0\n",
       "oldpeak     0\n",
       "slope       0\n",
       "ca          0\n",
       "thal        0\n",
       "target      0\n",
       "dtype: int64"
      ]
     },
     "execution_count": 136,
     "metadata": {},
     "output_type": "execute_result"
    }
   ],
   "source": [
    "data.isnull().sum()"
   ]
  },
  {
   "cell_type": "markdown",
   "metadata": {},
   "source": [
    "Пропуски отсутствуют"
   ]
  },
  {
   "cell_type": "markdown",
   "metadata": {},
   "source": [
    "### 3. Деление выборки на обучающую и тестовую"
   ]
  },
  {
   "cell_type": "code",
   "execution_count": 137,
   "metadata": {},
   "outputs": [],
   "source": [
    "from sklearn.model_selection import train_test_split\n",
    "\n",
    "x_learn, x_test, y_learn, y_test = train_test_split(\n",
    "    data.loc[:, data.columns != 'target'], data['target'],\n",
    "    test_size=0.2, random_state=1) "
   ]
  },
  {
   "cell_type": "markdown",
   "metadata": {},
   "source": [
    "### 4. Обучение трех моделей knn для задачи классификации с тремя разными гиперпараметрами"
   ]
  },
  {
   "cell_type": "code",
   "execution_count": 138,
   "metadata": {},
   "outputs": [],
   "source": [
    "from sklearn.neighbors import KNeighborsClassifier\n",
    "\n",
    "cc1_1 = KNeighborsClassifier(n_neighbors=2)\n",
    "cc1_1.fit(x_learn, y_learn)\n",
    "target2_1 = cc1_1.predict(x_test)\n",
    "\n",
    "cc1_2 = KNeighborsClassifier(n_neighbors=4)\n",
    "cc1_2.fit(x_learn, y_learn)\n",
    "target2_2 = cc1_2.predict(x_test)\n",
    "\n",
    "cc1_3 = KNeighborsClassifier(n_neighbors=3)\n",
    "cc1_3.fit(x_learn, y_learn)\n",
    "target2_3 = cc1_3.predict(x_test)"
   ]
  },
  {
   "cell_type": "markdown",
   "metadata": {},
   "source": [
    "### Оценка качества моделей с помощью разных метрик"
   ]
  },
  {
   "cell_type": "code",
   "execution_count": 139,
   "metadata": {},
   "outputs": [
    {
     "name": "stdout",
     "output_type": "stream",
     "text": [
      "Метрика accuracy для 2 соседей 0.4918032786885246\n",
      "Метрики precision/recall для 2 соседей: Precision = 0.5 / Recall = 0.3870967741935484\n",
      "Метрика accuracy для 4 соседей: 0.5409836065573771\n",
      "Метрики precision/recall для 4 соседей: Precision = 0.5555555555555556 / Recall = 0.4838709677419355\n",
      "Метрика accuracy для 3 соседей: 0.5737704918032787\n",
      "Метрики precision/recall для 3 соседей: Precision = 0.5609756097560976 / Recall = 0.7419354838709677\n"
     ]
    }
   ],
   "source": [
    "from sklearn.metrics import accuracy_score, precision_score, recall_score\n",
    "\n",
    "print('Метрика accuracy для 2 соседей', accuracy_score(y_test, target2_1))\n",
    "print('Метрики precision/recall для 2 соседей:', 'Precision = %(pr)s / Recall = %(rec)s' % {\n",
    "    'pr' : precision_score(y_test, target2_1), 'rec': recall_score(y_test, target2_1)})\n",
    "print ('Метрика accuracy для 4 соседей:', accuracy_score(y_test, target2_2))\n",
    "print('Метрики precision/recall для 4 соседей:', 'Precision = %(pr)s / Recall = %(rec)s' % {\n",
    "    'pr' : precision_score(y_test, target2_2), 'rec': recall_score(y_test, target2_2)})\n",
    "print ('Метрика accuracy для 3 соседей:', accuracy_score(y_test, target2_3))\n",
    "print('Метрики precision/recall для 3 соседей:', 'Precision = %(pr)s / Recall = %(rec)s' % {\n",
    "    'pr' : precision_score(y_test, target2_3), 'rec': recall_score(y_test, target2_3)})"
   ]
  },
  {
   "cell_type": "markdown",
   "metadata": {},
   "source": [
    "### 5. Оценка качества модели с использованием кросс-валидации"
   ]
  },
  {
   "cell_type": "code",
   "execution_count": 140,
   "metadata": {},
   "outputs": [
    {
     "data": {
      "text/plain": [
       "(array([0.62337662, 0.63157895, 0.65333333, 0.65333333]), 0.6404055593529278)"
      ]
     },
     "execution_count": 140,
     "metadata": {},
     "output_type": "execute_result"
    }
   ],
   "source": [
    "from sklearn.model_selection import cross_val_score, cross_validate\n",
    "\n",
    "col_x = data.loc[:, data.columns != 'target'].columns\n",
    "\n",
    "scores = cross_val_score(KNeighborsClassifier(n_neighbors=5), \n",
    "                        data[col_x], data['target'], cv=4)\n",
    "scores, np.mean(scores)"
   ]
  },
  {
   "cell_type": "code",
   "execution_count": 141,
   "metadata": {},
   "outputs": [
    {
     "data": {
      "text/plain": [
       "{'fit_time': array([0.00433397, 0.00199556, 0.00209045]),\n",
       " 'score_time': array([0.01717162, 0.01338077, 0.0120523 ]),\n",
       " 'test_precision': array([0.62182853, 0.60270501, 0.66387408]),\n",
       " 'test_recall': array([0.62376238, 0.6039604 , 0.66336634]),\n",
       " 'test_f1': array([0.62181218, 0.60309602, 0.6568663 ])}"
      ]
     },
     "execution_count": 141,
     "metadata": {},
     "output_type": "execute_result"
    }
   ],
   "source": [
    "scoring = {'precision': 'precision_weighted', \n",
    "           'recall': 'recall_weighted',\n",
    "           'f1': 'f1_weighted'}\n",
    "\n",
    "#использование cross_validate, которая позволяет использовать для оценки несколько метрик и возращает более детальную информацию\n",
    "scores = cross_validate(KNeighborsClassifier(n_neighbors=5), \n",
    "                        data[col_x], data['target'], scoring=scoring, \n",
    "                        cv=3, return_train_score=False)\n",
    "scores"
   ]
  },
  {
   "cell_type": "code",
   "execution_count": 142,
   "metadata": {},
   "outputs": [
    {
     "data": {
      "text/plain": [
       "array([0.16831683, 0.56435644, 0.45544554])"
      ]
     },
     "execution_count": 142,
     "metadata": {},
     "output_type": "execute_result"
    }
   ],
   "source": [
    "from sklearn.model_selection import KFold, RepeatedKFold, ShuffleSplit\n",
    "\n",
    "#KFold\n",
    "scoresKF = cross_val_score(KNeighborsClassifier(n_neighbors=2), \n",
    "                         data[col_x], data['target'],\n",
    "                         cv=KFold(n_splits=3))\n",
    "scoresKF"
   ]
  },
  {
   "cell_type": "code",
   "execution_count": 143,
   "metadata": {},
   "outputs": [
    {
     "name": "stdout",
     "output_type": "stream",
     "text": [
      "Первое повторение: [0.71287129 0.7029703  0.63366337]\n",
      "Второе повторение: [0.59405941 0.7029703  0.56435644]\n"
     ]
    }
   ],
   "source": [
    "#RepeatedKfold\n",
    "scoresRKF = cross_val_score(KNeighborsClassifier(n_neighbors=3), \n",
    "                         data[col_x], data['target'],\n",
    "                         cv=RepeatedKFold(n_splits=3, n_repeats=2))\n",
    "print ('Первое повторение:', scoresRKF[0:3])\n",
    "print ('Второе повторение:', scoresRKF[3:6])"
   ]
  },
  {
   "cell_type": "code",
   "execution_count": 144,
   "metadata": {},
   "outputs": [
    {
     "data": {
      "text/plain": [
       "array([0.61842105, 0.60526316, 0.52631579, 0.56578947, 0.56578947])"
      ]
     },
     "execution_count": 144,
     "metadata": {},
     "output_type": "execute_result"
    }
   ],
   "source": [
    "#ShuffleSplit\n",
    "scoresSS = cross_val_score(KNeighborsClassifier(n_neighbors=2), \n",
    "                         data[col_x], data['target'], \n",
    "                         cv=ShuffleSplit(n_splits=5, test_size=0.25))\n",
    "scoresSS"
   ]
  },
  {
   "cell_type": "markdown",
   "metadata": {},
   "source": [
    "### 6. Подбор гиперпараметра методом решетчатого поиска"
   ]
  },
  {
   "cell_type": "code",
   "execution_count": 145,
   "metadata": {},
   "outputs": [
    {
     "data": {
      "text/plain": [
       "[{'n_neighbors': array([ 2,  3,  4,  5,  6,  7,  8,  9, 10, 11])}]"
      ]
     },
     "execution_count": 145,
     "metadata": {},
     "output_type": "execute_result"
    }
   ],
   "source": [
    "from sklearn.model_selection import GridSearchCV\n",
    "\n",
    "n_range = np.array(range(2,12,1))\n",
    "tuned_parameters = [{'n_neighbors': n_range}]\n",
    "tuned_parameters"
   ]
  },
  {
   "cell_type": "code",
   "execution_count": 146,
   "metadata": {},
   "outputs": [
    {
     "name": "stderr",
     "output_type": "stream",
     "text": [
      "/usr/lib/python3.7/site-packages/sklearn/model_selection/_search.py:841: DeprecationWarning: The default of the `iid` parameter will change from True to False in version 0.22 and will be removed in 0.24. This will change numeric results when test-set sizes are unequal.\n",
      "  DeprecationWarning)\n"
     ]
    },
    {
     "data": {
      "text/plain": [
       "GridSearchCV(cv=5, error_score='raise-deprecating',\n",
       "       estimator=KNeighborsClassifier(algorithm='auto', leaf_size=30, metric='minkowski',\n",
       "           metric_params=None, n_jobs=None, n_neighbors=5, p=2,\n",
       "           weights='uniform'),\n",
       "       fit_params=None, iid='warn', n_jobs=None,\n",
       "       param_grid=[{'n_neighbors': array([ 2,  3,  4,  5,  6,  7,  8,  9, 10, 11])}],\n",
       "       pre_dispatch='2*n_jobs', refit=True, return_train_score='warn',\n",
       "       scoring='accuracy', verbose=0)"
      ]
     },
     "execution_count": 146,
     "metadata": {},
     "output_type": "execute_result"
    }
   ],
   "source": [
    "clf_gs = GridSearchCV(KNeighborsClassifier(), tuned_parameters, cv=5, scoring='accuracy')\n",
    "clf_gs.fit(x_learn, y_learn)"
   ]
  },
  {
   "cell_type": "code",
   "execution_count": 147,
   "metadata": {},
   "outputs": [
    {
     "name": "stderr",
     "output_type": "stream",
     "text": [
      "/usr/lib/python3.7/site-packages/sklearn/utils/deprecation.py:125: FutureWarning: You are accessing a training score ('split0_train_score'), which will not be available by default any more in 0.21. If you need training scores, please set return_train_score=True\n",
      "  warnings.warn(*warn_args, **warn_kwargs)\n",
      "/usr/lib/python3.7/site-packages/sklearn/utils/deprecation.py:125: FutureWarning: You are accessing a training score ('split1_train_score'), which will not be available by default any more in 0.21. If you need training scores, please set return_train_score=True\n",
      "  warnings.warn(*warn_args, **warn_kwargs)\n",
      "/usr/lib/python3.7/site-packages/sklearn/utils/deprecation.py:125: FutureWarning: You are accessing a training score ('split2_train_score'), which will not be available by default any more in 0.21. If you need training scores, please set return_train_score=True\n",
      "  warnings.warn(*warn_args, **warn_kwargs)\n",
      "/usr/lib/python3.7/site-packages/sklearn/utils/deprecation.py:125: FutureWarning: You are accessing a training score ('split3_train_score'), which will not be available by default any more in 0.21. If you need training scores, please set return_train_score=True\n",
      "  warnings.warn(*warn_args, **warn_kwargs)\n",
      "/usr/lib/python3.7/site-packages/sklearn/utils/deprecation.py:125: FutureWarning: You are accessing a training score ('split4_train_score'), which will not be available by default any more in 0.21. If you need training scores, please set return_train_score=True\n",
      "  warnings.warn(*warn_args, **warn_kwargs)\n",
      "/usr/lib/python3.7/site-packages/sklearn/utils/deprecation.py:125: FutureWarning: You are accessing a training score ('mean_train_score'), which will not be available by default any more in 0.21. If you need training scores, please set return_train_score=True\n",
      "  warnings.warn(*warn_args, **warn_kwargs)\n",
      "/usr/lib/python3.7/site-packages/sklearn/utils/deprecation.py:125: FutureWarning: You are accessing a training score ('std_train_score'), which will not be available by default any more in 0.21. If you need training scores, please set return_train_score=True\n",
      "  warnings.warn(*warn_args, **warn_kwargs)\n"
     ]
    },
    {
     "data": {
      "text/plain": [
       "{'mean_fit_time': array([0.0021769 , 0.00157676, 0.00152016, 0.00177093, 0.00169458,\n",
       "        0.00152974, 0.00149455, 0.00151386, 0.0014935 , 0.00150123]),\n",
       " 'std_fit_time': array([4.25104127e-04, 7.32699667e-05, 2.18285197e-05, 1.65132185e-04,\n",
       "        1.46524432e-04, 6.03179969e-05, 2.55099412e-05, 4.21111198e-05,\n",
       "        1.43252866e-05, 2.11860633e-05]),\n",
       " 'mean_score_time': array([0.00296211, 0.00241556, 0.00214281, 0.00237513, 0.0023026 ,\n",
       "        0.00220675, 0.00221477, 0.00220942, 0.00218534, 0.00225363]),\n",
       " 'std_score_time': array([7.34321003e-04, 3.93312753e-04, 3.58753341e-05, 1.50502604e-04,\n",
       "        8.41126961e-05, 4.45646100e-05, 5.02303531e-05, 3.54572597e-05,\n",
       "        1.67090435e-05, 4.00053588e-05]),\n",
       " 'param_n_neighbors': masked_array(data=[2, 3, 4, 5, 6, 7, 8, 9, 10, 11],\n",
       "              mask=[False, False, False, False, False, False, False, False,\n",
       "                    False, False],\n",
       "        fill_value='?',\n",
       "             dtype=object),\n",
       " 'params': [{'n_neighbors': 2},\n",
       "  {'n_neighbors': 3},\n",
       "  {'n_neighbors': 4},\n",
       "  {'n_neighbors': 5},\n",
       "  {'n_neighbors': 6},\n",
       "  {'n_neighbors': 7},\n",
       "  {'n_neighbors': 8},\n",
       "  {'n_neighbors': 9},\n",
       "  {'n_neighbors': 10},\n",
       "  {'n_neighbors': 11}],\n",
       " 'split0_test_score': array([0.63265306, 0.69387755, 0.63265306, 0.67346939, 0.63265306,\n",
       "        0.63265306, 0.57142857, 0.6122449 , 0.59183673, 0.67346939]),\n",
       " 'split1_test_score': array([0.59183673, 0.6122449 , 0.59183673, 0.55102041, 0.53061224,\n",
       "        0.59183673, 0.57142857, 0.57142857, 0.57142857, 0.6122449 ]),\n",
       " 'split2_test_score': array([0.48979592, 0.63265306, 0.63265306, 0.65306122, 0.59183673,\n",
       "        0.6122449 , 0.59183673, 0.63265306, 0.59183673, 0.59183673]),\n",
       " 'split3_test_score': array([0.70833333, 0.8125    , 0.72916667, 0.77083333, 0.77083333,\n",
       "        0.77083333, 0.72916667, 0.70833333, 0.66666667, 0.6875    ]),\n",
       " 'split4_test_score': array([0.55319149, 0.63829787, 0.61702128, 0.59574468, 0.59574468,\n",
       "        0.57446809, 0.59574468, 0.59574468, 0.57446809, 0.55319149]),\n",
       " 'mean_test_score': array([0.59504132, 0.67768595, 0.64049587, 0.64876033, 0.62396694,\n",
       "        0.63636364, 0.61157025, 0.62396694, 0.59917355, 0.62396694]),\n",
       " 'std_test_score': array([0.07360195, 0.07236754, 0.04659239, 0.07458736, 0.08013688,\n",
       "        0.06966059, 0.05935441, 0.04656676, 0.03463726, 0.05006494]),\n",
       " 'rank_test_score': array([10,  1,  3,  2,  5,  4,  8,  5,  9,  5], dtype=int32),\n",
       " 'split0_train_score': array([0.81865285, 0.80310881, 0.78238342, 0.76165803, 0.74611399,\n",
       "        0.73056995, 0.76165803, 0.75129534, 0.75129534, 0.72020725]),\n",
       " 'split1_train_score': array([0.8238342 , 0.8134715 , 0.80829016, 0.80829016, 0.75129534,\n",
       "        0.74611399, 0.7357513 , 0.73056995, 0.73056995, 0.7357513 ]),\n",
       " 'split2_train_score': array([0.81865285, 0.80829016, 0.76683938, 0.77202073, 0.76165803,\n",
       "        0.73056995, 0.74611399, 0.70984456, 0.70984456, 0.67875648]),\n",
       " 'split3_train_score': array([0.79381443, 0.78865979, 0.77319588, 0.75773196, 0.74742268,\n",
       "        0.71649485, 0.71649485, 0.70618557, 0.69587629, 0.69072165]),\n",
       " 'split4_train_score': array([0.83589744, 0.77948718, 0.79487179, 0.77435897, 0.78461538,\n",
       "        0.75384615, 0.73846154, 0.74358974, 0.73333333, 0.72820513]),\n",
       " 'mean_train_score': array([0.81817035, 0.79860349, 0.78511612, 0.77481197, 0.75822108,\n",
       "        0.73551898, 0.73969594, 0.72829703, 0.72418389, 0.71072836]),\n",
       " 'std_train_score': array([0.01371135, 0.01264514, 0.0149386 , 0.01785238, 0.01428023,\n",
       "        0.01310758, 0.01468945, 0.01787381, 0.01932077, 0.02210839])}"
      ]
     },
     "execution_count": 147,
     "metadata": {},
     "output_type": "execute_result"
    }
   ],
   "source": [
    "clf_gs.cv_results_"
   ]
  },
  {
   "cell_type": "code",
   "execution_count": 156,
   "metadata": {},
   "outputs": [
    {
     "name": "stdout",
     "output_type": "stream",
     "text": [
      "Лучшая модель: KNeighborsClassifier(algorithm='auto', leaf_size=30, metric='minkowski',\n",
      "           metric_params=None, n_jobs=None, n_neighbors=3, p=2,\n",
      "           weights='uniform')\n",
      "Лучшее значение метрики: 0.6776859504132231\n",
      "Лучшее значение параметров: {'n_neighbors': 3}\n"
     ]
    }
   ],
   "source": [
    "print('Лучшая модель: ', clf_gs.best_estimator_, '\\n', 'Лучшее значение метрики: ', clf_gs.best_score_,\n",
    "      '\\n', 'Лучшее значение параметров: ', clf_gs.best_params_,sep = '')\n"
   ]
  },
  {
   "cell_type": "code",
   "execution_count": 149,
   "metadata": {},
   "outputs": [
    {
     "data": {
      "text/plain": [
       "[<matplotlib.lines.Line2D at 0x7ffa2807fa90>]"
      ]
     },
     "execution_count": 149,
     "metadata": {},
     "output_type": "execute_result"
    },
    {
     "data": {
      "image/png": "[encoded data removed]",
      "text/plain": [
       "<Figure size 432x288 with 1 Axes>"
      ]
     },
     "metadata": {
      "needs_background": "light"
     },
     "output_type": "display_data"
    }
   ],
   "source": [
    "plt.plot(n_range, clf_gs.cv_results_['mean_train_score'])"
   ]
  },
  {
   "cell_type": "code",
   "execution_count": 157,
   "metadata": {},
   "outputs": [
    {
     "data": {
      "text/plain": [
       "[<matplotlib.lines.Line2D at 0x7ffa27f1a1d0>]"
      ]
     },
     "execution_count": 157,
     "metadata": {},
     "output_type": "execute_result"
    },
    {
     "data": {
      "image/png": "[encoded data removed]",
      "text/plain": [
       "<Figure size 432x288 with 1 Axes>"
      ]
     },
     "metadata": {
      "needs_background": "light"
     },
     "output_type": "display_data"
    }
   ],
   "source": [
    "plt.plot(n_range, clf_gs.cv_results_['mean_test_score'])"
   ]
  },
  {
   "cell_type": "markdown",
   "metadata": {},
   "source": [
    "### 7. Обучение с гиперпараметром 3 уже было произведено."
   ]
  },
  {
   "cell_type": "markdown",
   "metadata": {},
   "source": [
    "### 8. Построение кривых обучения и валидации"
   ]
  },
  {
   "cell_type": "code",
   "execution_count": 151,
   "metadata": {},
   "outputs": [],
   "source": [
    "from sklearn.model_selection import learning_curve, validation_curve\n",
    "\n",
    "# Функции для посроения графиков из лекции:\n",
    "\n",
    "def plot_learning_curve(estimator, title, X, y, ylim=None, cv=None,\n",
    "                        n_jobs=None, train_sizes=np.linspace(.1, 1.0, 5)):\n",
    "    plt.figure()\n",
    "    plt.title(title)\n",
    "    if ylim is not None:\n",
    "        plt.ylim(*ylim)\n",
    "    plt.xlabel(\"Training examples\")\n",
    "    plt.ylabel(\"Score\")\n",
    "    train_sizes, train_scores, test_scores = learning_curve(\n",
    "        estimator, X, y, cv=cv, n_jobs=n_jobs, train_sizes=train_sizes)\n",
    "    train_scores_mean = np.mean(train_scores, axis=1)\n",
    "    train_scores_std = np.std(train_scores, axis=1)\n",
    "    test_scores_mean = np.mean(test_scores, axis=1)\n",
    "    test_scores_std = np.std(test_scores, axis=1)\n",
    "    plt.grid()\n",
    "\n",
    "    plt.fill_between(train_sizes, train_scores_mean - train_scores_std,\n",
    "                     train_scores_mean + train_scores_std, alpha=0.1,\n",
    "                     color=\"r\")\n",
    "    plt.fill_between(train_sizes, test_scores_mean - test_scores_std,\n",
    "                     test_scores_mean + test_scores_std, alpha=0.1, color=\"g\")\n",
    "    plt.plot(train_sizes, train_scores_mean, 'o-', color=\"r\",\n",
    "             label=\"Training score\")\n",
    "    plt.plot(train_sizes, test_scores_mean, 'o-', color=\"g\",\n",
    "             label=\"Cross-validation score\")\n",
    "\n",
    "    plt.legend(loc=\"best\")\n",
    "    return plt\n",
    "\n",
    "def plot_validation_curve(estimator, title, X, y, \n",
    "                          param_name, param_range, cv, \n",
    "                          scoring=\"accuracy\"):\n",
    "                                                   \n",
    "    train_scores, test_scores = validation_curve(\n",
    "        estimator, X, y, param_name=param_name, param_range=param_range,\n",
    "        cv=cv, scoring=scoring, n_jobs=1)\n",
    "    train_scores_mean = np.mean(train_scores, axis=1)\n",
    "    train_scores_std = np.std(train_scores, axis=1)\n",
    "    test_scores_mean = np.mean(test_scores, axis=1)\n",
    "    test_scores_std = np.std(test_scores, axis=1)\n",
    "\n",
    "    plt.title(title)\n",
    "    plt.xlabel(param_name)\n",
    "    plt.ylabel(\"Score\")\n",
    "    plt.ylim(0.0, 1.1)\n",
    "    lw = 2\n",
    "    plt.plot(param_range, train_scores_mean, label=\"Training score\",\n",
    "                 color=\"darkorange\", lw=lw)\n",
    "    plt.fill_between(param_range, train_scores_mean - train_scores_std,\n",
    "                     train_scores_mean + train_scores_std, alpha=0.2,\n",
    "                     color=\"darkorange\", lw=lw)\n",
    "    plt.plot(param_range, test_scores_mean, label=\"Cross-validation score\",\n",
    "                 color=\"navy\", lw=lw)\n",
    "    plt.fill_between(param_range, test_scores_mean - test_scores_std,\n",
    "                     test_scores_mean + test_scores_std, alpha=0.2,\n",
    "                     color=\"navy\", lw=lw)\n",
    "    plt.legend(loc=\"best\")\n",
    "    return plt"
   ]
  },
  {
   "cell_type": "code",
   "execution_count": 152,
   "metadata": {},
   "outputs": [
    {
     "data": {
      "text/plain": [
       "<module 'matplotlib.pyplot' from '/usr/lib/python3.7/site-packages/matplotlib/pyplot.py'>"
      ]
     },
     "execution_count": 152,
     "metadata": {},
     "output_type": "execute_result"
    },
    {
     "data": {
      "image/png": "[encoded data removed]",
      "text/plain": [
       "<Figure size 432x288 with 1 Axes>"
      ]
     },
     "metadata": {
      "needs_background": "light"
     },
     "output_type": "display_data"
    }
   ],
   "source": [
    "# Кривая обучения\n",
    "plot_learning_curve(KNeighborsClassifier(n_neighbors=22), 'n_neighbors=22', \n",
    "                    x_learn, y_learn, cv=20)"
   ]
  },
  {
   "cell_type": "code",
   "execution_count": 153,
   "metadata": {},
   "outputs": [
    {
     "data": {
      "text/plain": [
       "<module 'matplotlib.pyplot' from '/usr/lib/python3.7/site-packages/matplotlib/pyplot.py'>"
      ]
     },
     "execution_count": 153,
     "metadata": {},
     "output_type": "execute_result"
    },
    {
     "data": {
      "image/png": "[encoded data removed]",
      "text/plain": [
       "<Figure size 432x288 with 1 Axes>"
      ]
     },
     "metadata": {
      "needs_background": "light"
     },
     "output_type": "display_data"
    }
   ],
   "source": [
    "# Кривая валидации\n",
    "plot_validation_curve(KNeighborsClassifier(), 'knn', \n",
    "                      x_learn, y_learn, \n",
    "                      param_name='n_neighbors', param_range=n_range, \n",
    "                      cv=StratifiedKFold(n_splits=5), scoring=\"accuracy\")"
   ]
  }
 ],
 "metadata": {
  "kernelspec": {
   "display_name": "Python 3",
   "language": "python",
   "name": "python3"
  },
  "language_info": {
   "codemirror_mode": {
    "name": "ipython",
    "version": 3
   },
   "file_extension": ".py",
   "mimetype": "text/x-python",
   "name": "python",
   "nbconvert_exporter": "python",
   "pygments_lexer": "ipython3",
   "version": "3.7.3"
  }
 },
 "nbformat": 4,
 "nbformat_minor": 2
}
